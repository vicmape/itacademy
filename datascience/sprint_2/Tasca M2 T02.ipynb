{
 "cells": [
  {
   "cell_type": "markdown",
   "id": "5cdb20f4",
   "metadata": {},
   "source": [
    "# Exercici 1"
   ]
  },
  {
   "cell_type": "markdown",
   "id": "97014321",
   "metadata": {},
   "source": [
    "L'exercici consisteix a crear un programa que et classifiqui una variable numèrica en funció de l’escala Suspès/Aprovat/Notable/Excel·lent.\n",
    "\n",
    "Recorda que Suspès < 5, Aprovat > 5 i < 7, Notable > 7 i < 9 i Excel·lent > 9."
   ]
  },
  {
   "cell_type": "code",
   "execution_count": 4,
   "id": "e6fdc4a0",
   "metadata": {},
   "outputs": [
    {
     "name": "stdout",
     "output_type": "stream",
     "text": [
      "Nota numèrica 0 equival a Suspès\n",
      "Nota numèrica 1 equival a Suspès\n",
      "Nota numèrica 2 equival a Suspès\n",
      "Nota numèrica 3 equival a Suspès\n",
      "Nota numèrica 4 equival a Suspès\n",
      "Nota numèrica 5 equival a Aprovat\n",
      "Nota numèrica 6 equival a Aprovat\n",
      "Nota numèrica 7 equival a Notable\n",
      "Nota numèrica 8 equival a Notable\n",
      "Nota numèrica 9 equival a Excel·lent\n",
      "Nota numèrica 10 equival a Excel·lent\n"
     ]
    }
   ],
   "source": [
    "def nota(nota_num):\n",
    "    if (nota_num < 5):\n",
    "        return \"Suspès\"\n",
    "    elif (nota_num < 7):\n",
    "        return \"Aprovat\"\n",
    "    elif (nota_num < 9):\n",
    "        return \"Notable\"\n",
    "    else:\n",
    "        return \"Excel·lent\"\n",
    "    \n",
    "for i in range (0, 11):\n",
    "    print(f'Nota numèrica {i} equival a {nota(i)}')"
   ]
  },
  {
   "cell_type": "markdown",
   "id": "93ad0527",
   "metadata": {},
   "source": [
    "# Exercici 2\n",
    "\n",
    "Utilitzant el següent tutorial crea un programa que et pregunti dos números. T’ha de mostrar un missatge dient si el primer és més gran, el segon és més gran o són iguals."
   ]
  },
  {
   "cell_type": "code",
   "execution_count": 6,
   "id": "a565dea6",
   "metadata": {},
   "outputs": [
    {
     "name": "stdout",
     "output_type": "stream",
     "text": [
      "Enter the first number: 1\n",
      "Enter the second number: 3\n",
      "El segon número és més gran\n"
     ]
    }
   ],
   "source": [
    "num1 = int(input(\"Escriu el primer número: \"))\n",
    "num2 = int(input(\"Escriu el segon númeror: \"))\n",
    "if num1 == num2:\n",
    "    print('Els números son iguals')\n",
    "elif num1 > num2:\n",
    "    print('El primer número és més gran')\n",
    "else:\n",
    "    print('El segon número és més gran')"
   ]
  },
  {
   "cell_type": "markdown",
   "id": "4b50ea76",
   "metadata": {},
   "source": [
    "# Exercici 3\n",
    "\n",
    "Crea un programa que et pregunti el teu nom, i et demani un número. Si el número és 0, hauria de mostrar un missatge d’error. En cas contrari, hauria de mostrar el nom repetit tants cops com indiqui el número. Per exemple, “Joan Joan Joan”."
   ]
  },
  {
   "cell_type": "code",
   "execution_count": 12,
   "id": "be299e60",
   "metadata": {},
   "outputs": [
    {
     "name": "stdout",
     "output_type": "stream",
     "text": [
      "Escriu el teu nom: vi\n",
      "Escriu un numero natural: 3\n",
      "<class 'int'>\n",
      "vi vi vi \n"
     ]
    }
   ],
   "source": [
    "nom = input(\"Escriu el teu nom: \");\n",
    "num = int(input(\"Escriu un numero natural: \"))\n",
    "\n",
    "if num <= 0:\n",
    "    print('Error: El número ha de ser més gran que zero')\n",
    "else:\n",
    "    print(f'{nom} ' * num)\n",
    "º"
   ]
  },
  {
   "cell_type": "markdown",
   "id": "3a49dc87",
   "metadata": {},
   "source": [
    "# Exercici 4\n",
    "\n",
    "Crea un programa que donada una llista qualsevol, et digui si és simètrica o no. Si ho és, que et digui quants elements té."
   ]
  },
  {
   "cell_type": "code",
   "execution_count": 29,
   "id": "82ca953b",
   "metadata": {},
   "outputs": [
    {
     "name": "stdout",
     "output_type": "stream",
     "text": [
      "La llista és simètrica i conté 4 elements\n"
     ]
    }
   ],
   "source": [
    "# Nota: l'algoritme no està optimitzat. Es podria fer en la meitat d'iteracions\n",
    "def sim(llista):\n",
    "    for i in range(len(llista)):\n",
    "      if llista[i] != llista[-i - 1]:\n",
    "        return False\n",
    "    return True\n",
    "    \n",
    "llista = [1,3,3,1]\n",
    "\n",
    "if sim(llista):\n",
    "    print(f'La llista és simètrica i conté {len(llista)} elements')\n",
    "else: \n",
    "    print(f'La llista no és simètrica')"
   ]
  },
  {
   "cell_type": "markdown",
   "id": "ec303daf",
   "metadata": {},
   "source": [
    "# Exercici 5\n",
    "\n",
    "Crea un programa que donada una llista, et digui quants números coincideixen amb la seva posició. Per exemple [3,4,2,0,2,3,6] el 2 i el 6 coincideixen."
   ]
  },
  {
   "cell_type": "code",
   "execution_count": 36,
   "id": "b096b472",
   "metadata": {},
   "outputs": [
    {
     "name": "stdout",
     "output_type": "stream",
     "text": [
      "0 3\n",
      "1 4\n",
      "2 2\n",
      "3 0\n",
      "4 2\n",
      "5 3\n",
      "6 6\n",
      "Coincideixen 2 numeros amb la seva posició\n"
     ]
    }
   ],
   "source": [
    "def mateixa_pos(llista):\n",
    "    count = 0\n",
    "    for i in range (len(llista)):\n",
    "        if i == llista[i]:\n",
    "            count += 1\n",
    "    return count\n",
    "\n",
    "llista = [3,4,2,0,2,3,6]\n",
    "\n",
    "print(f'Coincideixen {mateixa_pos(llista)} numeros amb la seva posició')\n"
   ]
  }
 ],
 "metadata": {
  "kernelspec": {
   "display_name": "Python 3 (ipykernel)",
   "language": "python",
   "name": "python3"
  },
  "language_info": {
   "codemirror_mode": {
    "name": "ipython",
    "version": 3
   },
   "file_extension": ".py",
   "mimetype": "text/x-python",
   "name": "python",
   "nbconvert_exporter": "python",
   "pygments_lexer": "ipython3",
   "version": "3.10.0"
  }
 },
 "nbformat": 4,
 "nbformat_minor": 5
}
