{
 "cells": [
  {
   "cell_type": "markdown",
   "id": "979d8244",
   "metadata": {},
   "source": [
    "# EXERCICI 1\n",
    "\n",
    "Crea una llista que agrupi els mesos de l’any en trimestres (1T: gener, febrer i març; 2T: abril, maig, juny...), és a dir, una llista amb 4 llistes dins."
   ]
  },
  {
   "cell_type": "code",
   "execution_count": 2,
   "id": "a45e14d2",
   "metadata": {},
   "outputs": [
    {
     "name": "stdout",
     "output_type": "stream",
     "text": [
      "[['gener', 'febrer', 'març'], ['abril', 'maig', 'juny'], ['juliol', 'agost', 'setembre'], ['octubre', 'novembre', 'desembre']]\n"
     ]
    }
   ],
   "source": [
    "mesos = [[\"gener\", \"febrer\", \"març\"],[\"abril\", \"maig\", \"juny\"],[\"juliol\", \"agost\", \"setembre\"],[\"octubre\", \"novembre\", \"desembre\"]]\n",
    "print(mesos)"
   ]
  },
  {
   "cell_type": "markdown",
   "id": "a96ff3f5",
   "metadata": {},
   "source": [
    "# EXERCICI 2\n",
    "\n",
    "Crea un codi que et permeti accedir a:\n",
    "\n",
    "El segon mes del primer trimestre.\n",
    "Els mesos del primer trimestre.\n",
    "Setembre i octubre."
   ]
  },
  {
   "cell_type": "code",
   "execution_count": 3,
   "id": "3115b5f0",
   "metadata": {},
   "outputs": [
    {
     "name": "stdout",
     "output_type": "stream",
     "text": [
      "El segon mes del primer trimestre: febrer\n",
      "Els mesos del primer trimestre: ['gener', 'febrer', 'març']\n",
      "Setembre i octubre: setembre i octubre\n"
     ]
    }
   ],
   "source": [
    "print(f'El segon mes del primer trimestre: {mesos[0][1]}')\n",
    "print(f'Els mesos del primer trimestre: {mesos[0]}')\n",
    "print(f'Setembre i octubre: {mesos[2][2]} i {mesos[3][0]}')"
   ]
  },
  {
   "cell_type": "markdown",
   "id": "b490029a",
   "metadata": {},
   "source": [
    "# EXERCICI 3\n",
    "\n",
    "Crea una llista amb nombres desordenats i respon a les següents preguntes:"
   ]
  },
  {
   "cell_type": "code",
   "execution_count": 4,
   "id": "0556c834",
   "metadata": {},
   "outputs": [
    {
     "name": "stdout",
     "output_type": "stream",
     "text": [
      "[11, 17, 8, 9, 16, 20, 13, 3, 13, 1, 5, 19, 17, 6, 1, 11, 7, 4, 1, 5, 20, 20, 9, 17, 7, 7, 1, 19, 12, 4]\n"
     ]
    }
   ],
   "source": [
    "import random\n",
    "\n",
    "randomList = []\n",
    "for i in range(0,30):\n",
    "    randomList.append( random.randint(1,20))\n",
    "print(f'{randomList}')"
   ]
  },
  {
   "cell_type": "markdown",
   "id": "2a529617",
   "metadata": {},
   "source": [
    "Quants números hi ha?"
   ]
  },
  {
   "cell_type": "code",
   "execution_count": 5,
   "id": "ede86672",
   "metadata": {},
   "outputs": [
    {
     "name": "stdout",
     "output_type": "stream",
     "text": [
      "Hi ha 30 numeros\n",
      "\n"
     ]
    }
   ],
   "source": [
    "print(f'Hi ha {len(randomList)} numeros\\n')"
   ]
  },
  {
   "cell_type": "markdown",
   "id": "ee9419ba",
   "metadata": {},
   "source": [
    "Quantes vegades apareix el número 3?"
   ]
  },
  {
   "cell_type": "code",
   "execution_count": 6,
   "id": "622e7ef0",
   "metadata": {},
   "outputs": [
    {
     "name": "stdout",
     "output_type": "stream",
     "text": [
      "El numero 3 apareix 1 vegades\n",
      "\n"
     ]
    }
   ],
   "source": [
    "print(f'El numero 3 apareix {randomList.count(3)} vegades\\n')"
   ]
  },
  {
   "cell_type": "markdown",
   "id": "110400ae",
   "metadata": {},
   "source": [
    "Quantes vegades apareixen els nombres 3 i 4?"
   ]
  },
  {
   "cell_type": "code",
   "execution_count": 7,
   "id": "b7958151",
   "metadata": {},
   "outputs": [
    {
     "name": "stdout",
     "output_type": "stream",
     "text": [
      "El numero 3 apareix 1 vegades\n",
      "El numero 4 apareix 2 vegades\n",
      "\n"
     ]
    }
   ],
   "source": [
    "print(f'El numero 3 apareix {randomList.count(3)} vegades')\n",
    "print(f'El numero 4 apareix {randomList.count(4)} vegades\\n')"
   ]
  },
  {
   "cell_type": "markdown",
   "id": "24ded3ea",
   "metadata": {},
   "source": [
    "Quin és el número més gran?"
   ]
  },
  {
   "cell_type": "code",
   "execution_count": 8,
   "id": "ff11a68b",
   "metadata": {},
   "outputs": [
    {
     "name": "stdout",
     "output_type": "stream",
     "text": [
      "20 és el número més gran\n",
      "\n"
     ]
    }
   ],
   "source": [
    "print(f'{max(randomList)} és el número més gran\\n')"
   ]
  },
  {
   "cell_type": "markdown",
   "id": "dc651ad4",
   "metadata": {},
   "source": [
    "Quins són els 3 números més petits?"
   ]
  },
  {
   "cell_type": "code",
   "execution_count": 10,
   "id": "388b6b78",
   "metadata": {},
   "outputs": [
    {
     "name": "stdout",
     "output_type": "stream",
     "text": [
      "Random list ordered without duplicates\n",
      "[1, 3, 4, 5, 6, 7, 8, 9, 11, 12, 13, 16, 17, 19, 20]\n",
      "\n",
      "Els 3 números més petits són [1, 3, 4]\n",
      "\n"
     ]
    }
   ],
   "source": [
    "randomListTemp = list(dict.fromkeys(randomList)) # Elimina duplicats\n",
    "randomListTemp.sort() # Endreça la llista\n",
    "print(f'Random list ordered without duplicates')\n",
    "print(f'{randomListTemp}\\n')\n",
    "print(f'Els 3 números més petits són {randomListTemp[0:3]}\\n') "
   ]
  },
  {
   "cell_type": "markdown",
   "id": "4503eeaf",
   "metadata": {},
   "source": [
    "Quin és el rang d’aquesta llista?"
   ]
  },
  {
   "cell_type": "code",
   "execution_count": 11,
   "id": "87b07dd1",
   "metadata": {},
   "outputs": [
    {
     "name": "stdout",
     "output_type": "stream",
     "text": [
      "El rang d'aquesta llista és [1, 20]\n"
     ]
    }
   ],
   "source": [
    "print (f'El rang d\\'aquesta llista és [{randomListTemp[0]}, {randomListTemp[-1]}]')"
   ]
  },
  {
   "cell_type": "markdown",
   "id": "196be5ca",
   "metadata": {},
   "source": [
    "# Exercici 4\n",
    "\n",
    "Crea un diccionari de la següent forma i respon a les preguntes:"
   ]
  },
  {
   "cell_type": "code",
   "execution_count": 13,
   "id": "c23ad558",
   "metadata": {},
   "outputs": [
    {
     "name": "stdout",
     "output_type": "stream",
     "text": [
      "{'Pomes': {'Qty': 5, '€': 0.42}, 'Peres': {'Qty': 3, '€': 0.66}}\n"
     ]
    }
   ],
   "source": [
    "compra = { \"Pomes\" : {\"Qty\": 5, \"€\": 0.42}, \"Peres\" : {\"Qty\": 3, \"€\": 0.66} }\n",
    "print(compra)"
   ]
  },
  {
   "cell_type": "markdown",
   "id": "ca9060e8",
   "metadata": {},
   "source": [
    "Afegeix alguna fruita més"
   ]
  },
  {
   "cell_type": "code",
   "execution_count": 17,
   "id": "adada8fc",
   "metadata": {},
   "outputs": [
    {
     "name": "stdout",
     "output_type": "stream",
     "text": [
      "{'Pomes': {'Qty': 5, '€': 0.42}, 'Peres': {'Qty': 3, '€': 0.66}, 'Taronges': {'Qty': 2, '€': 0.34}}\n"
     ]
    }
   ],
   "source": [
    "compra[\"Taronges\"] = {\"Qty\": 2, \"€\":0.34}\n",
    "print(compra)"
   ]
  },
  {
   "cell_type": "markdown",
   "id": "4d034a41",
   "metadata": {},
   "source": [
    "Quant han costat les peres en total?"
   ]
  },
  {
   "cell_type": "code",
   "execution_count": 22,
   "id": "157d28ea",
   "metadata": {},
   "outputs": [
    {
     "name": "stdout",
     "output_type": "stream",
     "text": [
      "Les peres han costat: 1.98\n"
     ]
    }
   ],
   "source": [
    "print(f'Les peres han costat {compra[\"Peres\"][\"Qty\"] * compra[\"Peres\"][\"€\"]} en total')"
   ]
  },
  {
   "cell_type": "markdown",
   "id": "440a02b4",
   "metadata": {},
   "source": [
    "Quantes fruites hem comprat en total?"
   ]
  },
  {
   "cell_type": "code",
   "execution_count": 25,
   "id": "5c51aee2",
   "metadata": {},
   "outputs": [
    {
     "name": "stdout",
     "output_type": "stream",
     "text": [
      "En total hem comprat 3 fruites\n"
     ]
    }
   ],
   "source": [
    "print(f'En total hem comprat {len(compra)} fruites')"
   ]
  },
  {
   "cell_type": "markdown",
   "id": "3c996f32",
   "metadata": {},
   "source": [
    "Quina és la fruita més cara?"
   ]
  },
  {
   "cell_type": "code",
   "execution_count": 51,
   "id": "178707e8",
   "metadata": {},
   "outputs": [
    {
     "name": "stdout",
     "output_type": "stream",
     "text": [
      "La fruita més cara es: Peres\n"
     ]
    }
   ],
   "source": [
    "max_name = ''\n",
    "max_price = 0.0\n",
    "for item in compra:\n",
    "    if (compra[item][\"€\"] > max_price):\n",
    "        max_price = compra[item][\"€\"]\n",
    "        max_name = item\n",
    "print(f'La fruita més cara es: {max_name}')"
   ]
  }
 ],
 "metadata": {
  "kernelspec": {
   "display_name": "Python 3 (ipykernel)",
   "language": "python",
   "name": "python3"
  },
  "language_info": {
   "codemirror_mode": {
    "name": "ipython",
    "version": 3
   },
   "file_extension": ".py",
   "mimetype": "text/x-python",
   "name": "python",
   "nbconvert_exporter": "python",
   "pygments_lexer": "ipython3",
   "version": "3.10.0"
  }
 },
 "nbformat": 4,
 "nbformat_minor": 5
}
