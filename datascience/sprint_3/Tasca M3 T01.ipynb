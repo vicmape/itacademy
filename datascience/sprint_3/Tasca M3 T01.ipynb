{
 "cells": [
  {
   "cell_type": "markdown",
   "metadata": {},
   "source": [
    "# Exercici 1\n",
    "\n",
    "Crea una funció que donat un Array d’una dimensió, et faci un resum estadístic bàsic de les dades. Si detecta que l’array té més d’una dimensió, ha de mostrar un missatge d’error."
   ]
  },
  {
   "cell_type": "code",
   "execution_count": 11,
   "metadata": {},
   "outputs": [
    {
     "name": "stdout",
     "output_type": "stream",
     "text": [
      "Error invalid number of dimensions:  2\n"
     ]
    }
   ],
   "source": [
    "import numpy as np\n",
    "\n",
    "arr = np.array([1,2,3,4,5,6,7,8,9])\n",
    "\n",
    "arr2D = np.array([[1,2,3],[4,5,6]]) # 2D array\n",
    "\n",
    "def statistics(arr):\n",
    "    if arr.ndim != 1:\n",
    "        print(\"Error invalid number of dimensions: \", arr.ndim)\n",
    "        return\n",
    "\n",
    "\n",
    "statistics(arr)\n",
    "statistics(arr2D)\n"
   ]
  }
 ],
 "metadata": {
  "kernelspec": {
   "display_name": "Python 3.10.5 64-bit",
   "language": "python",
   "name": "python3"
  },
  "language_info": {
   "codemirror_mode": {
    "name": "ipython",
    "version": 3
   },
   "file_extension": ".py",
   "mimetype": "text/x-python",
   "name": "python",
   "nbconvert_exporter": "python",
   "pygments_lexer": "ipython3",
   "version": "3.10.5"
  },
  "orig_nbformat": 4,
  "vscode": {
   "interpreter": {
    "hash": "d7c402c8c36186b3a660f149938c77be5cfb229d102bb7fd29436b36a6361e29"
   }
  }
 },
 "nbformat": 4,
 "nbformat_minor": 2
}
